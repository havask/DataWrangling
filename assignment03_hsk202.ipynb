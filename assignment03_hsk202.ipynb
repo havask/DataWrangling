{
 "cells": [
  {
   "cell_type": "markdown",
   "metadata": {},
   "source": [
    "# Assignment 3"
   ]
  },
  {
   "cell_type": "markdown",
   "metadata": {},
   "source": [
    "* <b>Do not change the structure</b> of the notebook, only fill in the parts where your code needs to be filled in.\n",
    "\n",
    "---\n",
    "\n",
    "* Read carefully if the assignment asks for a Pandas **dataframe** or a Pandas **series**.\n",
    "\n",
    "--- \n",
    "\n",
    "* For your notebook, <b>use as filename</b> `assignment03_vunetID.ipynb`, where `vunetID` is your three letter, three digit VU ID."
   ]
  },
  {
   "cell_type": "code",
   "execution_count": 1,
   "metadata": {
    "deletable": false,
    "editable": false,
    "nbgrader": {
     "cell_type": "code",
     "checksum": "cd3ecc13604d15a89bbb1bebcb80e5c5",
     "grade": false,
     "grade_id": "libraries",
     "locked": true,
     "schema_version": 3,
     "solution": false
    }
   },
   "outputs": [],
   "source": [
    "import numpy as np\n",
    "import pandas as pd\n",
    "import matplotlib.pyplot as plt\n",
    "pd.options.display.max_rows = 20\n",
    "np.set_printoptions(precision=4, suppress=True)"
   ]
  },
  {
   "cell_type": "markdown",
   "metadata": {},
   "source": [
    "### Datetime manipulations\n",
    "\n",
    "The Data Wrangling course started on Tuesday 10 January 2023 at 1.30 pm and will end on Friday 3 February 2023 at 5.00 pm. Calculate the duration of the course in minutes. Assign the value to the variable *duration*.\n"
   ]
  },
  {
   "cell_type": "code",
   "execution_count": 48,
   "metadata": {
    "deletable": false,
    "nbgrader": {
     "cell_type": "code",
     "checksum": "bf9d686d3d41aa5aa1801f06db6bd896",
     "grade": false,
     "grade_id": "duration",
     "locked": false,
     "schema_version": 3,
     "solution": true
    }
   },
   "outputs": [],
   "source": [
    "from datetime import datetime\n",
    "\n",
    "# YOUR CODE HERE\n",
    "start_time = pd.Timestamp(year=2023, month=1, day=10, hour=13, minute=30)\n",
    "end_time = pd.Timestamp(year=2023, month=2, day=3, hour=17, minute=0)\n",
    "\n",
    "duration = end_time - start_time\n",
    "duration = duration.total_seconds() / 60\n",
    "\n",
    "# YOUR CODE ENDS HERE"
   ]
  },
  {
   "cell_type": "code",
   "execution_count": 5,
   "metadata": {
    "deletable": false,
    "editable": false,
    "nbgrader": {
     "cell_type": "code",
     "checksum": "a29b5a0fc095be7cd6b522a230f9a929",
     "grade": true,
     "grade_id": "duration-correct",
     "locked": true,
     "points": 1,
     "schema_version": 3,
     "solution": false
    }
   },
   "outputs": [
    {
     "name": "stdout",
     "output_type": "stream",
     "text": [
      "34770.0\n"
     ]
    }
   ],
   "source": [
    "print(duration)"
   ]
  },
  {
   "cell_type": "markdown",
   "metadata": {},
   "source": [
    "Below you will find the scheduled days of the course Data Wrangling. The values in the time series denote the number of contact hours spend on each lecture. Create a time series that calculates the cumulative sum of all the hours that you have spent on the course. Assign the cumulative sum up to 31 January 2023 to the variable *cum_hours*."
   ]
  },
  {
   "cell_type": "code",
   "execution_count": 2,
   "metadata": {
    "deletable": false,
    "nbgrader": {
     "cell_type": "code",
     "checksum": "83a420cf5e95d0964b61af3ada3f9b1b",
     "grade": false,
     "grade_id": "cum-hours",
     "locked": false,
     "schema_version": 3,
     "solution": true
    }
   },
   "outputs": [],
   "source": [
    "from datetime import datetime\n",
    "from pandas.tseries.offsets import *\n",
    "\n",
    "\n",
    "dates = [datetime(2023, 1, 10), datetime(2023, 1, 11), datetime(2023, 1, 13),\n",
    "         datetime(2023, 1, 17), datetime(2023, 1, 18), datetime(2023, 1, 20),\n",
    "         datetime(2023, 1, 24), datetime(2023, 1, 25), datetime(2023, 1, 27),\n",
    "         datetime(2023, 1, 31), datetime(2023, 2,  1), datetime(2023, 2,  2),\n",
    "         datetime(2023, 2,  3)]\n",
    "ts = pd.Series([2, 2, 1, 2, 2, 1, 2, 2, 1, 3, 3, 3, 3], index = dates)\n",
    "\n",
    "# YOUR CODE HERE\n",
    "cum_hours = ts.cumsum()[datetime(2023,1,31)]\n",
    "# YOUR CODE ENDS HERE"
   ]
  },
  {
   "cell_type": "code",
   "execution_count": 67,
   "metadata": {
    "deletable": false,
    "editable": false,
    "nbgrader": {
     "cell_type": "code",
     "checksum": "57784831ec59646fe15372e10e21d1de",
     "grade": true,
     "grade_id": "cum-hours-correct",
     "locked": true,
     "points": 1,
     "schema_version": 3,
     "solution": false
    }
   },
   "outputs": [
    {
     "name": "stdout",
     "output_type": "stream",
     "text": [
      "18\n"
     ]
    }
   ],
   "source": [
    "print(cum_hours)"
   ]
  },
  {
   "cell_type": "markdown",
   "metadata": {},
   "source": [
    "Suppose that you want to become a world-class expert in data wrangling. So, you decide to spent 2 hours learning data wrangling every Tuesday in 2023. As you have a lot of free time every first Wednesday of the month, you spent 3 hours learning data wrangling those days in 2023. Calculate how many hours you will spend learning in 2023. Assign that value to the variable *study_hours*."
   ]
  },
  {
   "cell_type": "code",
   "execution_count": 53,
   "metadata": {
    "deletable": false,
    "nbgrader": {
     "cell_type": "code",
     "checksum": "92a179674f7e6b3479cdbc4561aaeee8",
     "grade": false,
     "grade_id": "study-hours",
     "locked": false,
     "schema_version": 3,
     "solution": true
    }
   },
   "outputs": [],
   "source": [
    "from datetime import datetime\n",
    "import calendar\n",
    "\n",
    "# YOUR CODE HERE\n",
    "\n",
    "\n",
    "# YOUR CODE ENDS HERE"
   ]
  },
  {
   "cell_type": "code",
   "execution_count": 68,
   "metadata": {
    "deletable": false,
    "editable": false,
    "nbgrader": {
     "cell_type": "code",
     "checksum": "1451e80574e09826ecd30ccc3a7bc10e",
     "grade": true,
     "grade_id": "study-hours-correct",
     "locked": true,
     "points": 1,
     "schema_version": 3,
     "solution": false
    }
   },
   "outputs": [
    {
     "name": "stdout",
     "output_type": "stream",
     "text": [
      "113\n"
     ]
    }
   ],
   "source": [
    "print(study_hours)"
   ]
  },
  {
   "cell_type": "markdown",
   "metadata": {},
   "source": [
    "Generate all business days in 2023 that start at the first weekday of the month. Calculate how many of these days fall on the second day of the month. Assign that value to the variable *second_days*."
   ]
  },
  {
   "cell_type": "code",
   "execution_count": 55,
   "metadata": {
    "deletable": false,
    "nbgrader": {
     "cell_type": "code",
     "checksum": "ae7db5c74fde90029f625c4bb2537c4f",
     "grade": false,
     "grade_id": "second-days",
     "locked": false,
     "schema_version": 3,
     "solution": true
    }
   },
   "outputs": [],
   "source": [
    "from datetime import datetime\n",
    "\n",
    "# YOUR CODE HERE\n",
    "\n",
    "#list of all the first days of the month in 2023\n",
    "first_days = pd.date_range(start='2023-01-01', end='2023-12-31', freq=BMonthBegin(1))\n",
    "\n",
    "#filter for only business days\n",
    "birthdays = pd.bdate_range(start='2023-01-01', end='2023-12-31')\n",
    "business_days = first_days.intersection(birthdays)\n",
    "\n",
    "#count the number of second days\n",
    "second_days = sum(day.day == 2 for day in business_days)\n",
    "\n",
    "# YOUR CODE ENDS HERE"
   ]
  },
  {
   "cell_type": "code",
   "execution_count": 56,
   "metadata": {
    "deletable": false,
    "editable": false,
    "nbgrader": {
     "cell_type": "code",
     "checksum": "6c3ed869875d09e70f8edddb52ca01ca",
     "grade": true,
     "grade_id": "second-days-correct",
     "locked": true,
     "points": 1,
     "schema_version": 3,
     "solution": false
    }
   },
   "outputs": [
    {
     "name": "stdout",
     "output_type": "stream",
     "text": [
      "2\n"
     ]
    }
   ],
   "source": [
    "print(second_days)"
   ]
  },
  {
   "cell_type": "markdown",
   "metadata": {},
   "source": [
    "The first blood moon in 2023 will fall on 5 May 2023 at 21.17 pm in Amsterdam. Calculate what time it will be in Sydney (Australia) at that exact moment. Assign the answer to *bloodmoon*."
   ]
  },
  {
   "cell_type": "code",
   "execution_count": 8,
   "metadata": {
    "deletable": false,
    "nbgrader": {
     "cell_type": "code",
     "checksum": "add92fab4a7cd8adf9bea590d25fb559",
     "grade": false,
     "grade_id": "bloodmoon",
     "locked": false,
     "schema_version": 3,
     "solution": true
    }
   },
   "outputs": [],
   "source": [
    "from datetime import datetime\n",
    "import pytz\n",
    "\n",
    "# YOUR CODE HERE\n",
    "\n",
    "# set the date and time of the blood moon in Amsterdam\n",
    "amsterdam_time = datetime(2023, 5, 5, 21, 17)\n",
    "\n",
    "# set the time zone for Amsterdam\n",
    "amsterdam_tz = pytz.timezone('Europe/Amsterdam')\n",
    "\n",
    "# set the time zone for Sydney\n",
    "sydney_tz = pytz.timezone('Australia/Sydney')\n",
    "\n",
    "# convert the Amsterdam time to the Sydney time\n",
    "bloodmoon = amsterdam_time.astimezone(sydney_tz)\n",
    "\n",
    "# YOUR CODE ENDS HERE"
   ]
  },
  {
   "cell_type": "code",
   "execution_count": 9,
   "metadata": {
    "deletable": false,
    "editable": false,
    "nbgrader": {
     "cell_type": "code",
     "checksum": "c6bbb7d8603e0e953d96a3ada9e007ca",
     "grade": true,
     "grade_id": "bloodmoon-correct",
     "locked": true,
     "points": 1,
     "schema_version": 3,
     "solution": false
    }
   },
   "outputs": [
    {
     "name": "stdout",
     "output_type": "stream",
     "text": [
      "2023-05-06 05:17:00+10:00\n"
     ]
    }
   ],
   "source": [
    "print(bloodmoon)"
   ]
  },
  {
   "cell_type": "markdown",
   "metadata": {},
   "source": [
    "### Sales volumes\n",
    "\n",
    "The file *volume.csv* contains sales volumes of different companies. Read the file, and calculate the mean sales volumes of each company in the year 2010. Assign the series to the variable *volumes2010*. "
   ]
  },
  {
   "cell_type": "code",
   "execution_count": 57,
   "metadata": {
    "deletable": false,
    "nbgrader": {
     "cell_type": "code",
     "checksum": "8e0334fe5abed654288ab914f300c2d5",
     "grade": false,
     "grade_id": "volumes2010",
     "locked": false,
     "schema_version": 3,
     "solution": true
    }
   },
   "outputs": [],
   "source": [
    "file = 'volume.csv'\n",
    "\n",
    "# YOUR CODE HERE\n",
    "# YOUR CODE ENDS HERE\n"
   ]
  },
  {
   "cell_type": "code",
   "execution_count": 58,
   "metadata": {
    "deletable": false,
    "editable": false,
    "nbgrader": {
     "cell_type": "code",
     "checksum": "5b85b2016c1457229112f0b071bf9d2b",
     "grade": true,
     "grade_id": "volumes2010-correct",
     "locked": true,
     "points": 1,
     "schema_version": 3,
     "solution": false
    }
   },
   "outputs": [
    {
     "name": "stdout",
     "output_type": "stream",
     "text": [
      "                     AA        AAPL          GE         IBM        JNJ  \\\n",
      "1990-02-01    2185600.0   4193200.0  14457600.0   6903600.0  5942400.0   \n",
      "1990-02-02    3103200.0   4248800.0  15302400.0   6064400.0  4732800.0   \n",
      "1990-02-05    1792800.0   3653200.0   9134400.0   5299200.0  3950400.0   \n",
      "1990-02-06    2205600.0   2640000.0  14389200.0  10808000.0  3761600.0   \n",
      "1990-02-07    3592800.0  11180800.0  18704400.0  12057600.0  5458400.0   \n",
      "...                 ...         ...         ...         ...        ...   \n",
      "2011-10-10   29555500.0  15769200.0  56154800.0   5784800.0  7104000.0   \n",
      "2011-10-11   54708100.0  21609800.0  45999500.0   5330500.0  7628700.0   \n",
      "2011-10-12  109803600.0  22206600.0  61755100.0   5338200.0  9375100.0   \n",
      "2011-10-13   42546500.0  15177900.0  46124800.0   4399200.0  7781100.0   \n",
      "2011-10-14   38184400.0  20450000.0  45134200.0   5368200.0  6678800.0   \n",
      "\n",
      "                   MSFT         PEP           SPX         XOM  \n",
      "1990-02-01   89193600.0   2954400.0  1.545800e+08   2916400.0  \n",
      "1990-02-02   71395200.0   2424000.0  1.644000e+08   4250000.0  \n",
      "1990-02-05   59731200.0   2225400.0  1.309500e+08   5880800.0  \n",
      "1990-02-06   81964800.0   3270000.0  1.340700e+08   4750800.0  \n",
      "1990-02-07  134150400.0   4332600.0  1.867100e+08   4124800.0  \n",
      "...                 ...         ...           ...         ...  \n",
      "2011-10-10   41815300.0   5985600.0  4.446800e+09  20455700.0  \n",
      "2011-10-11   38826200.0  10261900.0  4.424500e+09  17862100.0  \n",
      "2011-10-12   52489800.0  13796200.0  5.355360e+09  22239000.0  \n",
      "2011-10-13   43823500.0   6887300.0  4.436270e+09  19540300.0  \n",
      "2011-10-14   50947700.0   8736600.0  4.116690e+09  17870600.0  \n",
      "\n",
      "[5472 rows x 9 columns]\n"
     ]
    }
   ],
   "source": [
    "print(df)"
   ]
  },
  {
   "attachments": {},
   "cell_type": "markdown",
   "metadata": {},
   "source": [
    "On which day did the sales volume of Apple (*AAPL*) overtake the sales volume of Microsoft (*MSFT*) for the first time? Calculate the value and assign the timestamp to the variable *changeover*."
   ]
  },
  {
   "cell_type": "code",
   "execution_count": 65,
   "metadata": {
    "deletable": false,
    "nbgrader": {
     "cell_type": "code",
     "checksum": "51c0e9d0a7a2c7d12196eb1405144de1",
     "grade": false,
     "grade_id": "changeover",
     "locked": false,
     "schema_version": 3,
     "solution": true
    }
   },
   "outputs": [],
   "source": [
    "file = 'volume.csv'\n",
    "\n",
    "# YOUR CODE HERE\n",
    "df = pd.read_csv(file, index_col=['Unnamed: 0'], parse_dates=True)\n",
    "\n",
    "# read the file\n",
    "changeover = df[(df[\"AAPL\"]>df[\"MSFT\"])].index[0]\n",
    "\n",
    "# YOUR CODE ENDS HERE"
   ]
  },
  {
   "cell_type": "code",
   "execution_count": 44,
   "metadata": {
    "deletable": false,
    "editable": false,
    "nbgrader": {
     "cell_type": "code",
     "checksum": "5619ee14e4174aa35cbec2e33ca2ac66",
     "grade": true,
     "grade_id": "changeover-correct",
     "locked": true,
     "points": 1,
     "schema_version": 3,
     "solution": false
    }
   },
   "outputs": [
    {
     "name": "stdout",
     "output_type": "stream",
     "text": [
      "1992-08-06 00:00:00\n"
     ]
    }
   ],
   "source": [
    "print(changeover)"
   ]
  },
  {
   "cell_type": "markdown",
   "metadata": {},
   "source": [
    "Format the date that you have found in a nicer way corresponding to the style dd/mm/yy. Thus, the day (dd), month (mm), and the year (yy) are formatted in 2 digits, separated by slashes. Assign the string to the variable *nicedate*."
   ]
  },
  {
   "cell_type": "code",
   "execution_count": 64,
   "metadata": {
    "deletable": false,
    "nbgrader": {
     "cell_type": "code",
     "checksum": "db9c43b9cebdb5c4e984121eda1c577b",
     "grade": false,
     "grade_id": "nicedate",
     "locked": false,
     "schema_version": 3,
     "solution": true
    }
   },
   "outputs": [],
   "source": [
    "# YOUR CODE HERE\n",
    "\n",
    "nicedate = changeover.strftime(\"%d/%m/%y\")\n",
    "\n",
    "# YOUR CODE ENDS HERE"
   ]
  },
  {
   "cell_type": "code",
   "execution_count": 39,
   "metadata": {
    "deletable": false,
    "editable": false,
    "nbgrader": {
     "cell_type": "code",
     "checksum": "096c0641190fc60828422b99c02ce24f",
     "grade": true,
     "grade_id": "nicedate-correct",
     "locked": true,
     "points": 1,
     "schema_version": 3,
     "solution": false
    }
   },
   "outputs": [
    {
     "name": "stdout",
     "output_type": "stream",
     "text": [
      "06/08/92\n"
     ]
    }
   ],
   "source": [
    "print(nicedate)"
   ]
  },
  {
   "cell_type": "markdown",
   "metadata": {},
   "source": [
    "Apple has to report every end of the year (31 December) what its current sales volume is (not cumulative!). Create a time series for every year with the sales volume listed for Apple (AAPL) on 31 December. If the data does not contain a record for this date, then take the last known value that this known prior to that date. Assign the time series to the variable *apple_report*."
   ]
  },
  {
   "cell_type": "code",
   "execution_count": 59,
   "metadata": {
    "deletable": false,
    "nbgrader": {
     "cell_type": "code",
     "checksum": "50dc840332b40030dc78d68c44d1215c",
     "grade": false,
     "grade_id": "apple-report",
     "locked": false,
     "schema_version": 3,
     "solution": true
    }
   },
   "outputs": [],
   "source": [
    "# YOUR CODE HERE\n",
    "\n",
    "df = pd.read_csv(\"volume.csv\", header=None, names=[\"date\", \"AA\", \"AAPL\", \"GE\", \"IBM\", \"JNJ\", \"MSFT\", \"PEP\", \"SPX\", \"XOM\"])\n",
    "\n",
    "#convert the date column to a datetime object\n",
    "df[\"date\"] = pd.to_datetime(df[\"date\"])\n",
    "\n",
    "#group by year\n",
    "df = df.set_index('date').groupby(pd.Grouper(freq='A')).last()\n",
    "\n",
    "#select the last value for every year\n",
    "apple_report = df['AAPL']\n",
    "\n",
    "# YOUR CODE ENDS HERE"
   ]
  },
  {
   "cell_type": "code",
   "execution_count": 60,
   "metadata": {
    "deletable": false,
    "editable": false,
    "nbgrader": {
     "cell_type": "code",
     "checksum": "361fb4b723176ee48e027cb430e49dfd",
     "grade": true,
     "grade_id": "apple-report-correct",
     "locked": true,
     "points": 1,
     "schema_version": 3,
     "solution": false
    }
   },
   "outputs": [
    {
     "name": "stdout",
     "output_type": "stream",
     "text": [
      "date\n",
      "1990-12-31     1593200.0\n",
      "1991-12-31     4802000.0\n",
      "1992-12-31     3302000.0\n",
      "1993-12-31     5765200.0\n",
      "1994-12-31     2616400.0\n",
      "                 ...    \n",
      "2007-12-31    19261900.0\n",
      "2008-12-31    21697900.0\n",
      "2009-12-31    12586100.0\n",
      "2010-12-31     6911000.0\n",
      "2011-12-31    20450000.0\n",
      "Name: AAPL, Length: 22, dtype: object\n"
     ]
    }
   ],
   "source": [
    "print(apple_report)"
   ]
  },
  {
   "cell_type": "markdown",
   "metadata": {},
   "source": [
    "The volumes of Apple are highly fluctuating over time. You can clearly see that when you make a plot. It would be better to smooth out the sales volume by taking a moving average with a period of 200 days. Calculate the moving average of the sales volume and assign the series to the variable *apple_smooth*. Create a plot with the original time series and the smooth version of the time series."
   ]
  },
  {
   "cell_type": "code",
   "execution_count": 63,
   "metadata": {
    "deletable": false,
    "nbgrader": {
     "cell_type": "code",
     "checksum": "800a9b3992a6a62b3b3f3319cca9de13",
     "grade": false,
     "grade_id": "apple-smooth",
     "locked": false,
     "schema_version": 3,
     "solution": true
    }
   },
   "outputs": [
    {
     "data": {
      "image/png": "[encoded data removed]",
      "text/plain": [
       "<Figure size 1200x600 with 1 Axes>"
      ]
     },
     "metadata": {},
     "output_type": "display_data"
    }
   ],
   "source": [
    "# YOUR CODE HERE\n",
    "df = pd.read_csv(\"volume.csv\", header=None, names=[\"date\", \"AA\", \"AAPL\", \"GE\", \"IBM\", \"JNJ\", \"MSFT\", \"PEP\", \"SPX\", \"XOM\"])\n",
    "\n",
    "# convert the date column to a datetime object\n",
    "df[\"date\"] = pd.to_datetime(df[\"date\"])\n",
    "\n",
    "#convert the 'AAPL' column to numeric values\n",
    "df[\"AAPL\"] = pd.to_numeric(df[\"AAPL\"], errors='coerce')\n",
    "\n",
    "#set date as index\n",
    "df = df.set_index('date')\n",
    "\n",
    "#calculate the moving average of the sales volume\n",
    "apple_smooth = df['AAPL'].rolling(200).mean()\n",
    "\n",
    "#Create a plot \n",
    "plt.figure(figsize=(12,6))\n",
    "plt.plot(df['AAPL'],label='Original')\n",
    "plt.plot(apple_smooth,label='Smooth')\n",
    "plt.legend()\n",
    "plt.show()\n",
    "# YOUR CODE ENDS HERE"
   ]
  },
  {
   "cell_type": "code",
   "execution_count": 21,
   "metadata": {
    "deletable": false,
    "editable": false,
    "nbgrader": {
     "cell_type": "code",
     "checksum": "412abdfa9f67643ad3bbb4c1b986c5a1",
     "grade": true,
     "grade_id": "apple-smooth-correct",
     "locked": true,
     "points": 1,
     "schema_version": 3,
     "solution": false
    }
   },
   "outputs": [
    {
     "name": "stdout",
     "output_type": "stream",
     "text": [
      "date\n",
      "NaT                  NaN\n",
      "1990-02-01           NaN\n",
      "1990-02-02           NaN\n",
      "1990-02-05           NaN\n",
      "1990-02-06           NaN\n",
      "                 ...    \n",
      "2011-10-10    18033579.0\n",
      "2011-10-11    18097018.0\n",
      "2011-10-12    18176636.0\n",
      "2011-10-13    18223393.5\n",
      "2011-10-14    18297519.5\n",
      "Name: AAPL, Length: 5473, dtype: float64\n"
     ]
    }
   ],
   "source": [
    "print(apple_smooth)"
   ]
  }
 ],
 "metadata": {
  "kernelspec": {
   "display_name": "base",
   "language": "python",
   "name": "python3"
  },
  "language_info": {
   "codemirror_mode": {
    "name": "ipython",
    "version": 3
   },
   "file_extension": ".py",
   "mimetype": "text/x-python",
   "name": "python",
   "nbconvert_exporter": "python",
   "pygments_lexer": "ipython3",
   "version": "3.9.13"
  },
  "vscode": {
   "interpreter": {
    "hash": "d41a3495ad7eada75a17570264a94b76dc84557b223140e272de21826b74db8f"
   }
  }
 },
 "nbformat": 4,
 "nbformat_minor": 2
}
