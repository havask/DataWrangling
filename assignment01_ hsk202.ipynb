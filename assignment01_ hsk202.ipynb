{
 "cells": [
  {
   "cell_type": "markdown",
   "metadata": {},
   "source": [
    "# Assignment 1"
   ]
  },
  {
   "cell_type": "markdown",
   "metadata": {},
   "source": [
    "* <b>Do not change the structure</b> of the notebook, only fill in the parts where your code needs to be filled in.\n",
    "\n",
    "--- \n",
    "\n",
    "* For your notebook, <b>use as filename</b> `assignment01_vunetID.ipynb`, where `vunetID` is your three letter, three digit VU ID."
   ]
  },
  {
   "cell_type": "markdown",
   "metadata": {},
   "source": [
    "### Manufacturing processes\n",
    "The file listed below contains data on a manufacturing process. Certain configurations of biological material and manufacturing processes result in a specific yield. Compute the average yield over all records and assign that value to the variable *avg_yield*."
   ]
  },
  {
   "cell_type": "code",
   "execution_count": 66,
   "metadata": {
    "deletable": false,
    "editable": false,
    "nbgrader": {
     "cell_type": "code",
     "checksum": "2e79fc5d76b21c640be183c076396cc5",
     "grade": false,
     "grade_id": "libraries",
     "locked": true,
     "schema_version": 3,
     "solution": false
    }
   },
   "outputs": [],
   "source": [
    "# read neccessary libraries\n",
    "import numpy as np\n",
    "import pandas as pd\n",
    "pd.options.display.max_rows = 20\n",
    "np.set_printoptions(precision = 4, suppress = True)"
   ]
  },
  {
   "cell_type": "code",
   "execution_count": 30,
   "metadata": {
    "deletable": false,
    "nbgrader": {
     "cell_type": "code",
     "checksum": "c5c8bf06ae19db044377648b09d66f2c",
     "grade": false,
     "grade_id": "yield",
     "locked": false,
     "schema_version": 3,
     "solution": true
    }
   },
   "outputs": [
    {
     "name": "stdout",
     "output_type": "stream",
     "text": [
      "Yield    40.176534\n",
      "dtype: float64\n"
     ]
    }
   ],
   "source": [
    "file = 'manufacturing.csv'\n",
    "\n",
    "# YOUR CODE HERE\n",
    "\n",
    "df = pd.read_csv(file)\n",
    "\n",
    "fields = ['Yield']\n",
    "\n",
    "df = pd.read_csv(file, skipinitialspace=True, usecols=fields)\n",
    "\n",
    "avg_yield = df.mean()\n",
    "\n",
    "\n",
    "# YOUR CODE ENDS HERE"
   ]
  },
  {
   "cell_type": "code",
   "execution_count": 31,
   "metadata": {
    "deletable": false,
    "editable": false,
    "nbgrader": {
     "cell_type": "code",
     "checksum": "953bd97b8911ad45b19d01a04653330f",
     "grade": true,
     "grade_id": "yield_correct",
     "locked": true,
     "points": 1,
     "schema_version": 3,
     "solution": false
    }
   },
   "outputs": [
    {
     "name": "stdout",
     "output_type": "stream",
     "text": [
      "Yield    40.176534\n",
      "dtype: float64\n"
     ]
    }
   ],
   "source": [
    "print(avg_yield)"
   ]
  },
  {
   "cell_type": "markdown",
   "metadata": {},
   "source": [
    "The file contains some missing data. Calculate the number of records that are not complete. Assign that number to the variable *num_missing*."
   ]
  },
  {
   "cell_type": "code",
   "execution_count": 44,
   "metadata": {
    "deletable": false,
    "nbgrader": {
     "cell_type": "code",
     "checksum": "daa708ff3227fe18b3ab26d556946efe",
     "grade": false,
     "grade_id": "missing",
     "locked": false,
     "schema_version": 3,
     "solution": true
    }
   },
   "outputs": [
    {
     "name": "stdout",
     "output_type": "stream",
     "text": [
      "106\n"
     ]
    }
   ],
   "source": [
    "# YOUR CODE HERE\n",
    "file = 'manufacturing.csv'\n",
    "\n",
    "df = pd.read_csv(file)\n",
    "df = pd.DataFrame(df)\n",
    "\n",
    "count_nan = df.isnull().sum()\n",
    "\n",
    "num_missing = count_nan.sum()\n",
    "# YOUR CODE ENDS HERE"
   ]
  },
  {
   "cell_type": "code",
   "execution_count": 45,
   "metadata": {
    "deletable": false,
    "editable": false,
    "nbgrader": {
     "cell_type": "code",
     "checksum": "00c179517d2151fd57011a9c3df8538b",
     "grade": true,
     "grade_id": "missing-correct",
     "locked": true,
     "points": 1,
     "schema_version": 3,
     "solution": false
    }
   },
   "outputs": [
    {
     "name": "stdout",
     "output_type": "stream",
     "text": [
      "106\n"
     ]
    }
   ],
   "source": [
    "print(num_missing)"
   ]
  },
  {
   "cell_type": "markdown",
   "metadata": {},
   "source": [
    "The column **ManufacturingProcess03** contains some missing values. Replace the missing value with the number 1.0 and calculate the mean of this column. Assign the result to the variable *avg_mp3*."
   ]
  },
  {
   "cell_type": "code",
   "execution_count": 56,
   "metadata": {
    "deletable": false,
    "nbgrader": {
     "cell_type": "code",
     "checksum": "7d8c5663f073af444fe2b1838dbf2f79",
     "grade": false,
     "grade_id": "replace",
     "locked": false,
     "schema_version": 3,
     "solution": true
    }
   },
   "outputs": [],
   "source": [
    "# YOUR CODE HERE\n",
    "\n",
    "file = 'manufacturing.csv'\n",
    "\n",
    "df = pd.read_csv(file, usecols = ['ManufacturingProcess03'])\n",
    "\n",
    "df.fillna(1.0)\n",
    "\n",
    "replaced = df.fillna(1.0)\n",
    "\n",
    "avg_mp3 = replaced.mean()\n",
    "\n",
    "# YOUR CODE ENDS HERE"
   ]
  },
  {
   "cell_type": "code",
   "execution_count": 57,
   "metadata": {
    "deletable": false,
    "editable": false,
    "nbgrader": {
     "cell_type": "code",
     "checksum": "2eada7efe411166c21ef6e4537492163",
     "grade": true,
     "grade_id": "replace-correct",
     "locked": true,
     "points": 1,
     "schema_version": 3,
     "solution": false
    }
   },
   "outputs": [
    {
     "name": "stdout",
     "output_type": "stream",
     "text": [
      "ManufacturingProcess03    1.49358\n",
      "dtype: float64\n"
     ]
    }
   ],
   "source": [
    "print(avg_mp3)"
   ]
  },
  {
   "cell_type": "markdown",
   "metadata": {},
   "source": [
    "### Population of Amsterdam in 2022\n",
    "The URL listed below contains tables on the demographics of Amsterdam. Use pandas commands to assign the **population estimate of 2022-01-01** in **Amsterdam** to the variable *population*.\n"
   ]
  },
  {
   "cell_type": "code",
   "execution_count": 41,
   "metadata": {
    "deletable": false,
    "nbgrader": {
     "cell_type": "code",
     "checksum": "e4ecbadbb045ace02d0cd33f452c8f1a",
     "grade": false,
     "grade_id": "html-q1",
     "locked": false,
     "schema_version": 3,
     "solution": true
    }
   },
   "outputs": [],
   "source": [
    "import pandas as pd\n",
    "import numpy as np\n",
    "\n",
    "url = 'https://www.citypopulation.de/en/netherlands/admin/noord_holland/0363__amsterdam/'\n",
    "\n",
    "tables = pd.read_html(url)\n",
    "\n",
    "population = tables[0].iloc[0,6]\n",
    "\n",
    "# YOUR CODE ENDS HERE"
   ]
  },
  {
   "cell_type": "code",
   "execution_count": 42,
   "metadata": {
    "deletable": false,
    "editable": false,
    "nbgrader": {
     "cell_type": "code",
     "checksum": "853c891f634bd45f81d868af91cc9dc5",
     "grade": true,
     "grade_id": "html-q1-correct",
     "locked": true,
     "points": 1,
     "schema_version": 3,
     "solution": false
    }
   },
   "outputs": [
    {
     "name": "stdout",
     "output_type": "stream",
     "text": [
      "903399\n"
     ]
    }
   ],
   "source": [
    "print(population)"
   ]
  },
  {
   "cell_type": "markdown",
   "metadata": {},
   "source": [
    "Which fraction of the total population is that? Extract the necessary information from the same table, and assign that value to the variable *fraction*."
   ]
  },
  {
   "cell_type": "code",
   "execution_count": 64,
   "metadata": {
    "deletable": false,
    "nbgrader": {
     "cell_type": "code",
     "checksum": "b4c5719aaabf271dc077dae8d37b98b3",
     "grade": false,
     "grade_id": "html-q2",
     "locked": false,
     "schema_version": 3,
     "solution": true
    }
   },
   "outputs": [
    {
     "name": "stdout",
     "output_type": "stream",
     "text": [
      "903399\n",
      "17590672\n"
     ]
    }
   ],
   "source": [
    "# YOUR CODE HERE\n",
    "import pandas as pd\n",
    "url = 'https://www.citypopulation.de/en/netherlands/admin/noord_holland/0363__amsterdam/'\n",
    "\n",
    "tables = pd.read_html(url)\n",
    "\n",
    "total_population = tables[0].iloc[1,6]\n",
    "print(population)\n",
    "print(total_population)\n",
    "fraction = population / total_population\n",
    "\n",
    "\n",
    "# YOUR CODE ENDS HERE"
   ]
  },
  {
   "cell_type": "code",
   "execution_count": 63,
   "metadata": {
    "deletable": false,
    "editable": false,
    "nbgrader": {
     "cell_type": "code",
     "checksum": "a054b6372e4061be9a3678a1654dda46",
     "grade": true,
     "grade_id": "html-q2-correct",
     "locked": true,
     "points": 1,
     "schema_version": 3,
     "solution": false
    }
   },
   "outputs": [
    {
     "name": "stdout",
     "output_type": "stream",
     "text": [
      "0.0513567076914401\n"
     ]
    }
   ],
   "source": [
    "print(fraction)"
   ]
  },
  {
   "cell_type": "markdown",
   "metadata": {},
   "source": [
    "### Food database\n",
    "The file listed below contains a database on food products. Read the file and count the number of unique categories in the variable *group*. Assign that number to the variable *num_categories*."
   ]
  },
  {
   "cell_type": "code",
   "execution_count": 71,
   "metadata": {
    "deletable": false,
    "nbgrader": {
     "cell_type": "code",
     "checksum": "11bc3a966f7a7ff07985fc7da5a00024",
     "grade": false,
     "grade_id": "unique-categories",
     "locked": false,
     "schema_version": 3,
     "solution": true
    }
   },
   "outputs": [],
   "source": [
    "import json\n",
    "file = 'database.json'\n",
    "\n",
    "# YOUR CODE HERE\n",
    "\n",
    "df = pd.read_json(file)\n",
    "\n",
    "num_categories = df.id.nunique()\n",
    "\n",
    "\n",
    "# YOUR CODE ENDS HERE"
   ]
  },
  {
   "cell_type": "code",
   "execution_count": 72,
   "metadata": {
    "deletable": false,
    "editable": false,
    "nbgrader": {
     "cell_type": "code",
     "checksum": "492ee59d5ac7952e0ff680f096a98177",
     "grade": true,
     "grade_id": "unique-categories-correct",
     "locked": true,
     "points": 1,
     "schema_version": 3,
     "solution": false
    }
   },
   "outputs": [
    {
     "name": "stdout",
     "output_type": "stream",
     "text": [
      "6636\n"
     ]
    }
   ],
   "source": [
    "print(num_categories)"
   ]
  },
  {
   "cell_type": "markdown",
   "metadata": {},
   "source": [
    "Count the number of products that are mentioned in the **Baby Foods** group. Assign that number to the variable *baby_total*."
   ]
  },
  {
   "cell_type": "code",
   "execution_count": 80,
   "metadata": {
    "deletable": false,
    "nbgrader": {
     "cell_type": "code",
     "checksum": "a847f40b0d5a1d80aede5fa4110944a4",
     "grade": false,
     "grade_id": "food-database",
     "locked": false,
     "schema_version": 3,
     "solution": true
    }
   },
   "outputs": [
    {
     "name": "stdout",
     "output_type": "stream",
     "text": [
      "209\n"
     ]
    }
   ],
   "source": [
    "# YOUR CODE HERE\n",
    "df = pd.read_json(file)\n",
    "\n",
    "baby_foods_df = df.query(\"group == 'Baby Foods'\")\n",
    "\n",
    "# Count the number of rows in the filtered DataFrame\n",
    "baby_total = baby_foods_df.count().values[0]\n",
    "\n",
    "# Print the count\n",
    "print(baby_total)"
   ]
  },
  {
   "cell_type": "code",
   "execution_count": 81,
   "metadata": {
    "deletable": false,
    "editable": false,
    "nbgrader": {
     "cell_type": "code",
     "checksum": "8658021b75813a3e0c5f7ca258dada5a",
     "grade": true,
     "grade_id": "food-database-correct",
     "locked": true,
     "points": 2,
     "schema_version": 3,
     "solution": false
    }
   },
   "outputs": [
    {
     "name": "stdout",
     "output_type": "stream",
     "text": [
      "209\n"
     ]
    }
   ],
   "source": [
    "print(baby_total)"
   ]
  },
  {
   "cell_type": "markdown",
   "metadata": {},
   "source": [
    "### Bus database\n",
    "The following XML file contains records on the LI Bus service. Read in the XML and count the number of records present in the file. Assign that number to the variable *num_records*."
   ]
  },
  {
   "cell_type": "code",
   "execution_count": 83,
   "metadata": {
    "deletable": false,
    "nbgrader": {
     "cell_type": "code",
     "checksum": "beff521cdd222fd8069c65f22f8b7abc",
     "grade": false,
     "grade_id": "bus",
     "locked": false,
     "schema_version": 3,
     "solution": true
    }
   },
   "outputs": [],
   "source": [
    "from lxml import objectify\n",
    "file = 'libus.xml'\n",
    "\n",
    "# YOUR CODE HERE\n",
    "df = pd.read_xml(file)\n",
    "num_records = len(df)\n",
    "\n",
    "# YOUR CODE ENDS HERE"
   ]
  },
  {
   "cell_type": "code",
   "execution_count": 84,
   "metadata": {
    "deletable": false,
    "editable": false,
    "nbgrader": {
     "cell_type": "code",
     "checksum": "0eb270e75e5622dd52d47b6a818f9138",
     "grade": true,
     "grade_id": "bus-correct",
     "locked": true,
     "points": 2,
     "schema_version": 3,
     "solution": false
    }
   },
   "outputs": [
    {
     "name": "stdout",
     "output_type": "stream",
     "text": [
      "480\n"
     ]
    }
   ],
   "source": [
    "print(num_records)"
   ]
  }
 ],
 "metadata": {
  "kernelspec": {
   "display_name": "Python 3 (ipykernel)",
   "language": "python",
   "name": "python3"
  },
  "language_info": {
   "codemirror_mode": {
    "name": "ipython",
    "version": 3
   },
   "file_extension": ".py",
   "mimetype": "text/x-python",
   "name": "python",
   "nbconvert_exporter": "python",
   "pygments_lexer": "ipython3",
   "version": "3.8.9"
  },
  "vscode": {
   "interpreter": {
    "hash": "31f2aee4e71d21fbe5cf8b01ff0e069b9275f58929596ceb00d14d90e3e16cd6"
   }
  }
 },
 "nbformat": 4,
 "nbformat_minor": 2
}
